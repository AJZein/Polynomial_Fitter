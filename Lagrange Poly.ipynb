{
 "cells": [
  {
   "cell_type": "code",
   "execution_count": 6,
   "metadata": {},
   "outputs": [
    {
     "name": "stdout",
     "output_type": "stream",
     "text": [
      "Through linear interpolation we estimate that our point at x = -1.5 is (-1.5, -0.7999999999999998)\n",
      "Through polynomial interpolation we estimate that our point at x = -1.5 is (-1.5, 10.628199999999907)\n"
     ]
    },
    {
     "data": {
      "text/plain": [
       "[<matplotlib.lines.Line2D at 0x225385e2fd0>]"
      ]
     },
     "execution_count": 6,
     "metadata": {},
     "output_type": "execute_result"
    },
    {
     "data": {
      "image/png": "[encoded data removed]",
      "text/plain": [
       "<Figure size 432x288 with 1 Axes>"
      ]
     },
     "metadata": {
      "needs_background": "light"
     },
     "output_type": "display_data"
    }
   ],
   "source": [
    "import math as math\n",
    "import numpy as np\n",
    "import matplotlib.pyplot as plt\n",
    "%matplotlib inline\n",
    "\n",
    "def poly_func(f, x):\n",
    "    \"\"\"f is a list of the polynomial coefficients where the index\n",
    "    matches the variable exponent. x is the point to evaluate f at\"\"\"\n",
    "    y = 0\n",
    "    for i in range(len(f)):\n",
    "        y +=  f[i]*(x)**i\n",
    "    return y\n",
    "\n",
    "def bounds(x, y, z):\n",
    "    \"\"\"Finds the two numbers in a linear list x that z is between and\n",
    "    returns them and their y values. If z is not in the list returns \n",
    "    either first two points or last two points. Mainly for use by lin_inter function\"\"\"\n",
    "    xstep = x[1] - x[0]\n",
    "    divider = math.floor((z-x[0])/xstep)\n",
    "    xbound = x[0] + divider*xstep\n",
    "    if xbound < z:\n",
    "        lowerindex = divider\n",
    "        upperindex = divider + 1\n",
    "    else:\n",
    "        lowerindex = divider + 1\n",
    "        upperindex = divider\n",
    "\n",
    "    if lowerindex >= 0 and upperindex <= len(x)-1:\n",
    "        return x[lowerindex], x[upperindex], y[lowerindex], y[upperindex]\n",
    "\n",
    "    elif lowerindex < 0:\n",
    "        return x[0], x[1], y[0], y[1]\n",
    "\n",
    "    else:\n",
    "        return x[-2], x[-1], y[-2], y[-1]\n",
    "\n",
    "        \n",
    "def lin_inter(x, y, z):\n",
    "    \"\"\"Finds the y value of z interperolated or extrapolated using data in x.\"\"\"\n",
    "    x1, x2, y1, y2 = bounds(x, y, z)\n",
    "    return (z-x1)*(y2-y1)/(x2-x1) + y1\n",
    "\n",
    "def lagrange_poly(x, y):\n",
    "    \"\"\"Finds the unique polynomial of order n-1 that passes through all \n",
    "    points in x (x having n points). Output is a list of polynomial\n",
    "    coefficients whose index matches the variables' exponent.\"\"\"\n",
    "    final = []\n",
    "    final_dict = {}\n",
    "    for i in range(len(x)):\n",
    "        final_dict['x' + str(i)] = 0\n",
    "        \n",
    "    for i in range(len(x)):\n",
    "        xj = np.delete(x, i)\n",
    "        li = [-xj[0], 1]\n",
    "        \n",
    "        # Calculating the numerator by matching list indexes to variable exponent\n",
    "        for j in range(1, len(xj)):\n",
    "            variables = {}\n",
    "            product = [-xj[j], 1]\n",
    "            for var in range(len(li)):\n",
    "                for n in range(2):\n",
    "                    value = li[var]*product[n]\n",
    "                    key = 'x' + str(var + n)\n",
    "                    if key in variables:\n",
    "                        variables[key] += value\n",
    "                    else:\n",
    "                        variables[key] = value\n",
    "            li = []\n",
    "            for order in range(len(variables)):\n",
    "                li += [variables['x' + str(order)]]\n",
    "        \n",
    "        # Calculating the denominator and y(i)\n",
    "        product = x[i] - xj[0]\n",
    "        for j in range(1, len(xj)):\n",
    "            product *= (x[i] - xj[j])\n",
    "        scalar = y[i]/product\n",
    "        \n",
    "        # Saving values before going to the next term in the sum\n",
    "        for dump in variables:\n",
    "            final_dict[dump] += scalar*variables[dump]   \n",
    "            \n",
    "    for i in range(len(final_dict)):\n",
    "        final += [final_dict['x' + str(i)]]\n",
    "    return final\n",
    "            \n",
    "            \n",
    "        \n",
    "# Modify according to your data\n",
    "x = np.array([1, 2, 3, 4])\n",
    "y = np.array([0.2, 0.6, 10, 2])\n",
    "xp1 = -1.5 # Point you want to interpolate\n",
    "\n",
    "\n",
    "yp1 = lin_inter(x, y, xp1)\n",
    "print(\"Through linear interpolation we estimate that our point at x = -1.5 is (\" + str(xp1) + \",\", str(yp1) + \")\")\n",
    "\n",
    "plt.plot(x, y, 'bo', markersize=5, color ='blue')\n",
    "plt.plot(xp1, yp1, 'bo', markersize=4, color='green')\n",
    "\n",
    "lagrange = lagrange_poly(x, y)\n",
    "    \n",
    "xpoly = np.linspace(2*x[0] - x[-1], 2*x[-1] - x[0], 50) # Computing the range over which to draw the polynomial\n",
    "ypoly = []\n",
    "for i in xpoly:\n",
    "    ypoly += [poly_func(lagrange, i)]\n",
    "xp3 = 3.3\n",
    "yp3 = poly_func(lagrange, xp3)\n",
    "print(\"Through polynomial interpolation we estimate that our point at x = -1.5 is (\" + str(xp1) + \",\", str(yp3) + \")\")\n",
    "    \n",
    "plt.plot(xp3, yp3, 'bo', color='black', markersize=4)\n",
    "plt.plot(xpoly, ypoly, color='red')\n"
   ]
  }
 ],
 "metadata": {
  "anaconda-cloud": {},
  "kernelspec": {
   "display_name": "Python 3",
   "language": "python",
   "name": "python3"
  },
  "language_info": {
   "codemirror_mode": {
    "name": "ipython",
    "version": 3
   },
   "file_extension": ".py",
   "mimetype": "text/x-python",
   "name": "python",
   "nbconvert_exporter": "python",
   "pygments_lexer": "ipython3",
   "version": "3.7.0"
  }
 },
 "nbformat": 4,
 "nbformat_minor": 2
}
